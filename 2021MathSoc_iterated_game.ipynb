{
 "cells": [
  {
   "cell_type": "markdown",
   "metadata": {},
   "source": [
    "# 2x2繰り返しゲーム\n",
    "## 2021KGSOC数理社会学ノート（5章）\n",
    "石田淳（aishida@kwansei.ac.jp）"
   ]
  },
  {
   "source": [
    "繰り返しゲームをPythonプログラムで再現する．必要なライブラリを読み込んでおく．"
   ],
   "cell_type": "markdown",
   "metadata": {}
  },
  {
   "cell_type": "code",
   "execution_count": 5,
   "metadata": {},
   "outputs": [],
   "source": [
    "import numpy as np\n",
    "import matplotlib.pyplot as plt\n",
    "import random"
   ]
  },
  {
   "source": [
    "まず最初に利得行列を定義する．"
   ],
   "cell_type": "markdown",
   "metadata": {}
  },
  {
   "cell_type": "code",
   "execution_count": 6,
   "metadata": {},
   "outputs": [],
   "source": [
    "# payoff matrix\n",
    "R = 3 #CC \n",
    "S = 0 #CD\n",
    "T = 5 #DC\n",
    "P = 1 #DD"
   ]
  },
  {
   "source": [
    "戦略をグローバル関数として定義する．自分と相手の履歴を引数にして，自分の履歴に1（協力）を加えるか0（非協力）を加えるかを判定する．"
   ],
   "cell_type": "markdown",
   "metadata": {}
  },
  {
   "cell_type": "code",
   "execution_count": 7,
   "metadata": {},
   "outputs": [],
   "source": [
    "# strategy function as global functions\n",
    "def TFT(selfhist, otherhist):\n",
    "    if selfhist == []:\n",
    "        selfhist.append(1)\n",
    "    elif otherhist[len(selfhist)-1] == 1:\n",
    "        selfhist.append(1)\n",
    "    elif otherhist[len(selfhist)-1] == 0:\n",
    "        selfhist.append(0)\n",
    "    \n",
    "def ALLC(selfhist, otherhist):\n",
    "    selfhist.append(1)\n",
    "\n",
    "def ALLD(selfhist, otherhist):\n",
    "    selfhist.append(0)\n",
    "\n",
    "def RAND(selfhist, otherhist):\n",
    "    selfhist.append(random.choice([0,1]))"
   ]
  },
  {
   "source": [
    "結果に応じて，利得を割り当てる関数"
   ],
   "cell_type": "markdown",
   "metadata": {}
  },
  {
   "cell_type": "code",
   "execution_count": 9,
   "metadata": {},
   "outputs": [],
   "source": [
    "# payyoff allocation function as a global function\n",
    "def payoff(xhist, yhist, xpayoffhist, ypayoffhist):\n",
    "    x = xhist[len(xhist)-1]\n",
    "    y = yhist[len(yhist)-1]\n",
    "    if x == 1 and y == 1:\n",
    "        xpayoffhist.append(R)\n",
    "        ypayoffhist.append(R)\n",
    "    elif x == 1 and y == 0:\n",
    "        xpayoffhist.append(S)\n",
    "        ypayoffhist.append(T)\n",
    "    elif x == 0 and y == 1:\n",
    "        xpayoffhist.append(T)\n",
    "        ypayoffhist.append(S)\n",
    "    elif x == 0 and y == 0:\n",
    "        xpayoffhist.append(P)\n",
    "        ypayoffhist.append(P)"
   ]
  },
  {
   "source": [
    "プレイヤーのクラスを定義．クラスとはオブジェクトとオブジェクトのメソッドを定める命令である．\n",
    "プレイヤークラスは初期値として戦略を渡され，相手の履歴を受け取って自らの戦略と履歴に応じて反応する関数を持つ．"
   ],
   "cell_type": "markdown",
   "metadata": {}
  },
  {
   "cell_type": "code",
   "execution_count": 10,
   "metadata": {},
   "outputs": [],
   "source": [
    "# player class\n",
    "class player():\n",
    "    def __init__(self, strategy):\n",
    "        self.gamehist = []\n",
    "        self.payoffhist = []\n",
    "        self.strategy = strategy\n",
    "    \n",
    "    def response(self, otherhist):\n",
    "        self.strategy(self.gamehist, otherhist)"
   ]
  },
  {
   "source": [
    "プレイヤークラスのインスタンスを作成する．インスタンスとは実際に動かすクラスオブジェクトである．"
   ],
   "cell_type": "markdown",
   "metadata": {}
  },
  {
   "cell_type": "code",
   "execution_count": 26,
   "metadata": {
    "tags": []
   },
   "outputs": [],
   "source": [
    "# creating instances of a player class\n",
    "P1 = player(RAND)\n",
    "P2 = player(TFT)"
   ]
  },
  {
   "source": [
    "100回対戦する．それぞれのプレイヤーが相手の履歴を受け取り戦略に応じて反応する．その後結果に応じて利得を配分する．これを`for`文で繰り返す．"
   ],
   "cell_type": "markdown",
   "metadata": {}
  },
  {
   "cell_type": "code",
   "execution_count": 27,
   "metadata": {},
   "outputs": [],
   "source": [
    "times = 100\n",
    "for t in range(times):\n",
    "    P1.response(P2.gamehist)\n",
    "    P2.response(P1.gamehist)\n",
    "    payoff(P1.gamehist, P2.gamehist, P1.payoffhist, P2.payoffhist)"
   ]
  },
  {
   "cell_type": "code",
   "execution_count": 28,
   "metadata": {
    "tags": []
   },
   "outputs": [
    {
     "output_type": "stream",
     "name": "stdout",
     "text": [
      "--------- for P1 ---------\ncorpration rate =  0.56\nsum of payoff =  241\n--------- for P2 ---------\ncorpration rate =  0.57\nsum of payoff =  236\n"
     ]
    }
   ],
   "source": [
    "print(\"--------- for P1 ---------\")\n",
    "print(\"corpration rate = \", sum(P1.gamehist) / len(P1.gamehist))\n",
    "print(\"sum of payoff = \", sum(P1.payoffhist))\n",
    "print(\"--------- for P2 ---------\")\n",
    "print(\"corpration rate = \", sum(P2.gamehist) / len(P2.gamehist))\n",
    "print(\"sum of payoff = \", sum(P2.payoffhist))"
   ]
  },
  {
   "cell_type": "code",
   "execution_count": 29,
   "metadata": {},
   "outputs": [
    {
     "output_type": "display_data",
     "data": {
      "text/plain": "<Figure size 432x288 with 1 Axes>",
      "image/svg+xml": "<?xml version=\"1.0\" encoding=\"utf-8\" standalone=\"no\"?>\r\n<!DOCTYPE svg PUBLIC \"-//W3C//DTD SVG 1.1//EN\"\r\n  \"http://www.w3.org/Graphics/SVG/1.1/DTD/svg11.dtd\">\r\n<!-- Created with matplotlib (https://matplotlib.org/) -->\r\n<svg height=\"249.908726pt\" version=\"1.1\" viewBox=\"0 0 375.2875 249.908726\" width=\"375.2875pt\" xmlns=\"http://www.w3.org/2000/svg\" xmlns:xlink=\"http://www.w3.org/1999/xlink\">\r\n <metadata>\r\n  <rdf:RDF xmlns:cc=\"http://creativecommons.org/ns#\" xmlns:dc=\"http://purl.org/dc/elements/1.1/\" xmlns:rdf=\"http://www.w3.org/1999/02/22-rdf-syntax-ns#\">\r\n   <cc:Work>\r\n    <dc:type rdf:resource=\"http://purl.org/dc/dcmitype/StillImage\"/>\r\n    <dc:date>2021-04-02T11:11:11.082520</dc:date>\r\n    <dc:format>image/svg+xml</dc:format>\r\n    <dc:creator>\r\n     <cc:Agent>\r\n      <dc:title>Matplotlib v3.3.2, https://matplotlib.org/</dc:title>\r\n     </cc:Agent>\r\n    </dc:creator>\r\n   </cc:Work>\r\n  </rdf:RDF>\r\n </metadata>\r\n <defs>\r\n  <style type=\"text/css\">*{stroke-linecap:butt;stroke-linejoin:round;}</style>\r\n </defs>\r\n <g id=\"figure_1\">\r\n  <g id=\"patch_1\">\r\n   <path d=\"M 0 249.908726 \r\nL 375.2875 249.908726 \r\nL 375.2875 0 \r\nL 0 0 \r\nz\r\n\" style=\"fill:none;\"/>\r\n  </g>\r\n  <g id=\"axes_1\">\r\n   <g id=\"patch_2\">\r\n    <path d=\"M 33.2875 226.030601 \r\nL 368.0875 226.030601 \r\nL 368.0875 8.590601 \r\nL 33.2875 8.590601 \r\nz\r\n\" style=\"fill:#ffffff;\"/>\r\n   </g>\r\n   <g id=\"matplotlib.axis_1\">\r\n    <g id=\"xtick_1\">\r\n     <g id=\"line2d_1\">\r\n      <defs>\r\n       <path d=\"M 0 0 \r\nL 0 3.5 \r\n\" id=\"me2ca67898d\" style=\"stroke:#000000;stroke-width:0.8;\"/>\r\n      </defs>\r\n      <g>\r\n       <use style=\"stroke:#000000;stroke-width:0.8;\" x=\"48.505682\" xlink:href=\"#me2ca67898d\" y=\"226.030601\"/>\r\n      </g>\r\n     </g>\r\n     <g id=\"text_1\">\r\n      <!-- 0 -->\r\n      <g transform=\"translate(45.324432 240.629039)scale(0.1 -0.1)\">\r\n       <defs>\r\n        <path d=\"M 31.78125 66.40625 \r\nQ 24.171875 66.40625 20.328125 58.90625 \r\nQ 16.5 51.421875 16.5 36.375 \r\nQ 16.5 21.390625 20.328125 13.890625 \r\nQ 24.171875 6.390625 31.78125 6.390625 \r\nQ 39.453125 6.390625 43.28125 13.890625 \r\nQ 47.125 21.390625 47.125 36.375 \r\nQ 47.125 51.421875 43.28125 58.90625 \r\nQ 39.453125 66.40625 31.78125 66.40625 \r\nz\r\nM 31.78125 74.21875 \r\nQ 44.046875 74.21875 50.515625 64.515625 \r\nQ 56.984375 54.828125 56.984375 36.375 \r\nQ 56.984375 17.96875 50.515625 8.265625 \r\nQ 44.046875 -1.421875 31.78125 -1.421875 \r\nQ 19.53125 -1.421875 13.0625 8.265625 \r\nQ 6.59375 17.96875 6.59375 36.375 \r\nQ 6.59375 54.828125 13.0625 64.515625 \r\nQ 19.53125 74.21875 31.78125 74.21875 \r\nz\r\n\" id=\"DejaVuSans-48\"/>\r\n       </defs>\r\n       <use xlink:href=\"#DejaVuSans-48\"/>\r\n      </g>\r\n     </g>\r\n    </g>\r\n    <g id=\"xtick_2\">\r\n     <g id=\"line2d_2\">\r\n      <g>\r\n       <use style=\"stroke:#000000;stroke-width:0.8;\" x=\"109.993285\" xlink:href=\"#me2ca67898d\" y=\"226.030601\"/>\r\n      </g>\r\n     </g>\r\n     <g id=\"text_2\">\r\n      <!-- 20 -->\r\n      <g transform=\"translate(103.630785 240.629039)scale(0.1 -0.1)\">\r\n       <defs>\r\n        <path d=\"M 19.1875 8.296875 \r\nL 53.609375 8.296875 \r\nL 53.609375 0 \r\nL 7.328125 0 \r\nL 7.328125 8.296875 \r\nQ 12.9375 14.109375 22.625 23.890625 \r\nQ 32.328125 33.6875 34.8125 36.53125 \r\nQ 39.546875 41.84375 41.421875 45.53125 \r\nQ 43.3125 49.21875 43.3125 52.78125 \r\nQ 43.3125 58.59375 39.234375 62.25 \r\nQ 35.15625 65.921875 28.609375 65.921875 \r\nQ 23.96875 65.921875 18.8125 64.3125 \r\nQ 13.671875 62.703125 7.8125 59.421875 \r\nL 7.8125 69.390625 \r\nQ 13.765625 71.78125 18.9375 73 \r\nQ 24.125 74.21875 28.421875 74.21875 \r\nQ 39.75 74.21875 46.484375 68.546875 \r\nQ 53.21875 62.890625 53.21875 53.421875 \r\nQ 53.21875 48.921875 51.53125 44.890625 \r\nQ 49.859375 40.875 45.40625 35.40625 \r\nQ 44.1875 33.984375 37.640625 27.21875 \r\nQ 31.109375 20.453125 19.1875 8.296875 \r\nz\r\n\" id=\"DejaVuSans-50\"/>\r\n       </defs>\r\n       <use xlink:href=\"#DejaVuSans-50\"/>\r\n       <use x=\"63.623047\" xlink:href=\"#DejaVuSans-48\"/>\r\n      </g>\r\n     </g>\r\n    </g>\r\n    <g id=\"xtick_3\">\r\n     <g id=\"line2d_3\">\r\n      <g>\r\n       <use style=\"stroke:#000000;stroke-width:0.8;\" x=\"171.480888\" xlink:href=\"#me2ca67898d\" y=\"226.030601\"/>\r\n      </g>\r\n     </g>\r\n     <g id=\"text_3\">\r\n      <!-- 40 -->\r\n      <g transform=\"translate(165.118388 240.629039)scale(0.1 -0.1)\">\r\n       <defs>\r\n        <path d=\"M 37.796875 64.3125 \r\nL 12.890625 25.390625 \r\nL 37.796875 25.390625 \r\nz\r\nM 35.203125 72.90625 \r\nL 47.609375 72.90625 \r\nL 47.609375 25.390625 \r\nL 58.015625 25.390625 \r\nL 58.015625 17.1875 \r\nL 47.609375 17.1875 \r\nL 47.609375 0 \r\nL 37.796875 0 \r\nL 37.796875 17.1875 \r\nL 4.890625 17.1875 \r\nL 4.890625 26.703125 \r\nz\r\n\" id=\"DejaVuSans-52\"/>\r\n       </defs>\r\n       <use xlink:href=\"#DejaVuSans-52\"/>\r\n       <use x=\"63.623047\" xlink:href=\"#DejaVuSans-48\"/>\r\n      </g>\r\n     </g>\r\n    </g>\r\n    <g id=\"xtick_4\">\r\n     <g id=\"line2d_4\">\r\n      <g>\r\n       <use style=\"stroke:#000000;stroke-width:0.8;\" x=\"232.968492\" xlink:href=\"#me2ca67898d\" y=\"226.030601\"/>\r\n      </g>\r\n     </g>\r\n     <g id=\"text_4\">\r\n      <!-- 60 -->\r\n      <g transform=\"translate(226.605992 240.629039)scale(0.1 -0.1)\">\r\n       <defs>\r\n        <path d=\"M 33.015625 40.375 \r\nQ 26.375 40.375 22.484375 35.828125 \r\nQ 18.609375 31.296875 18.609375 23.390625 \r\nQ 18.609375 15.53125 22.484375 10.953125 \r\nQ 26.375 6.390625 33.015625 6.390625 \r\nQ 39.65625 6.390625 43.53125 10.953125 \r\nQ 47.40625 15.53125 47.40625 23.390625 \r\nQ 47.40625 31.296875 43.53125 35.828125 \r\nQ 39.65625 40.375 33.015625 40.375 \r\nz\r\nM 52.59375 71.296875 \r\nL 52.59375 62.3125 \r\nQ 48.875 64.0625 45.09375 64.984375 \r\nQ 41.3125 65.921875 37.59375 65.921875 \r\nQ 27.828125 65.921875 22.671875 59.328125 \r\nQ 17.53125 52.734375 16.796875 39.40625 \r\nQ 19.671875 43.65625 24.015625 45.921875 \r\nQ 28.375 48.1875 33.59375 48.1875 \r\nQ 44.578125 48.1875 50.953125 41.515625 \r\nQ 57.328125 34.859375 57.328125 23.390625 \r\nQ 57.328125 12.15625 50.6875 5.359375 \r\nQ 44.046875 -1.421875 33.015625 -1.421875 \r\nQ 20.359375 -1.421875 13.671875 8.265625 \r\nQ 6.984375 17.96875 6.984375 36.375 \r\nQ 6.984375 53.65625 15.1875 63.9375 \r\nQ 23.390625 74.21875 37.203125 74.21875 \r\nQ 40.921875 74.21875 44.703125 73.484375 \r\nQ 48.484375 72.75 52.59375 71.296875 \r\nz\r\n\" id=\"DejaVuSans-54\"/>\r\n       </defs>\r\n       <use xlink:href=\"#DejaVuSans-54\"/>\r\n       <use x=\"63.623047\" xlink:href=\"#DejaVuSans-48\"/>\r\n      </g>\r\n     </g>\r\n    </g>\r\n    <g id=\"xtick_5\">\r\n     <g id=\"line2d_5\">\r\n      <g>\r\n       <use style=\"stroke:#000000;stroke-width:0.8;\" x=\"294.456095\" xlink:href=\"#me2ca67898d\" y=\"226.030601\"/>\r\n      </g>\r\n     </g>\r\n     <g id=\"text_5\">\r\n      <!-- 80 -->\r\n      <g transform=\"translate(288.093595 240.629039)scale(0.1 -0.1)\">\r\n       <defs>\r\n        <path d=\"M 31.78125 34.625 \r\nQ 24.75 34.625 20.71875 30.859375 \r\nQ 16.703125 27.09375 16.703125 20.515625 \r\nQ 16.703125 13.921875 20.71875 10.15625 \r\nQ 24.75 6.390625 31.78125 6.390625 \r\nQ 38.8125 6.390625 42.859375 10.171875 \r\nQ 46.921875 13.96875 46.921875 20.515625 \r\nQ 46.921875 27.09375 42.890625 30.859375 \r\nQ 38.875 34.625 31.78125 34.625 \r\nz\r\nM 21.921875 38.8125 \r\nQ 15.578125 40.375 12.03125 44.71875 \r\nQ 8.5 49.078125 8.5 55.328125 \r\nQ 8.5 64.0625 14.71875 69.140625 \r\nQ 20.953125 74.21875 31.78125 74.21875 \r\nQ 42.671875 74.21875 48.875 69.140625 \r\nQ 55.078125 64.0625 55.078125 55.328125 \r\nQ 55.078125 49.078125 51.53125 44.71875 \r\nQ 48 40.375 41.703125 38.8125 \r\nQ 48.828125 37.15625 52.796875 32.3125 \r\nQ 56.78125 27.484375 56.78125 20.515625 \r\nQ 56.78125 9.90625 50.3125 4.234375 \r\nQ 43.84375 -1.421875 31.78125 -1.421875 \r\nQ 19.734375 -1.421875 13.25 4.234375 \r\nQ 6.78125 9.90625 6.78125 20.515625 \r\nQ 6.78125 27.484375 10.78125 32.3125 \r\nQ 14.796875 37.15625 21.921875 38.8125 \r\nz\r\nM 18.3125 54.390625 \r\nQ 18.3125 48.734375 21.84375 45.5625 \r\nQ 25.390625 42.390625 31.78125 42.390625 \r\nQ 38.140625 42.390625 41.71875 45.5625 \r\nQ 45.3125 48.734375 45.3125 54.390625 \r\nQ 45.3125 60.0625 41.71875 63.234375 \r\nQ 38.140625 66.40625 31.78125 66.40625 \r\nQ 25.390625 66.40625 21.84375 63.234375 \r\nQ 18.3125 60.0625 18.3125 54.390625 \r\nz\r\n\" id=\"DejaVuSans-56\"/>\r\n       </defs>\r\n       <use xlink:href=\"#DejaVuSans-56\"/>\r\n       <use x=\"63.623047\" xlink:href=\"#DejaVuSans-48\"/>\r\n      </g>\r\n     </g>\r\n    </g>\r\n    <g id=\"xtick_6\">\r\n     <g id=\"line2d_6\">\r\n      <g>\r\n       <use style=\"stroke:#000000;stroke-width:0.8;\" x=\"355.943698\" xlink:href=\"#me2ca67898d\" y=\"226.030601\"/>\r\n      </g>\r\n     </g>\r\n     <g id=\"text_6\">\r\n      <!-- 100 -->\r\n      <g transform=\"translate(346.399948 240.629039)scale(0.1 -0.1)\">\r\n       <defs>\r\n        <path d=\"M 12.40625 8.296875 \r\nL 28.515625 8.296875 \r\nL 28.515625 63.921875 \r\nL 10.984375 60.40625 \r\nL 10.984375 69.390625 \r\nL 28.421875 72.90625 \r\nL 38.28125 72.90625 \r\nL 38.28125 8.296875 \r\nL 54.390625 8.296875 \r\nL 54.390625 0 \r\nL 12.40625 0 \r\nz\r\n\" id=\"DejaVuSans-49\"/>\r\n       </defs>\r\n       <use xlink:href=\"#DejaVuSans-49\"/>\r\n       <use x=\"63.623047\" xlink:href=\"#DejaVuSans-48\"/>\r\n       <use x=\"127.246094\" xlink:href=\"#DejaVuSans-48\"/>\r\n      </g>\r\n     </g>\r\n    </g>\r\n   </g>\r\n   <g id=\"matplotlib.axis_2\">\r\n    <g id=\"ytick_1\">\r\n     <g id=\"line2d_7\">\r\n      <defs>\r\n       <path d=\"M 0 0 \r\nL -3.5 0 \r\n\" id=\"mce01b078ce\" style=\"stroke:#000000;stroke-width:0.8;\"/>\r\n      </defs>\r\n      <g>\r\n       <use style=\"stroke:#000000;stroke-width:0.8;\" x=\"33.2875\" xlink:href=\"#mce01b078ce\" y=\"218.638638\"/>\r\n      </g>\r\n     </g>\r\n     <g id=\"text_7\">\r\n      <!-- 0 -->\r\n      <g transform=\"translate(19.925 222.437857)scale(0.1 -0.1)\">\r\n       <use xlink:href=\"#DejaVuSans-48\"/>\r\n      </g>\r\n     </g>\r\n    </g>\r\n    <g id=\"ytick_2\">\r\n     <g id=\"line2d_8\">\r\n      <g>\r\n       <use style=\"stroke:#000000;stroke-width:0.8;\" x=\"33.2875\" xlink:href=\"#mce01b078ce\" y=\"177.110754\"/>\r\n      </g>\r\n     </g>\r\n     <g id=\"text_8\">\r\n      <!-- 50 -->\r\n      <g transform=\"translate(13.5625 180.909973)scale(0.1 -0.1)\">\r\n       <defs>\r\n        <path d=\"M 10.796875 72.90625 \r\nL 49.515625 72.90625 \r\nL 49.515625 64.59375 \r\nL 19.828125 64.59375 \r\nL 19.828125 46.734375 \r\nQ 21.96875 47.46875 24.109375 47.828125 \r\nQ 26.265625 48.1875 28.421875 48.1875 \r\nQ 40.625 48.1875 47.75 41.5 \r\nQ 54.890625 34.8125 54.890625 23.390625 \r\nQ 54.890625 11.625 47.5625 5.09375 \r\nQ 40.234375 -1.421875 26.90625 -1.421875 \r\nQ 22.3125 -1.421875 17.546875 -0.640625 \r\nQ 12.796875 0.140625 7.71875 1.703125 \r\nL 7.71875 11.625 \r\nQ 12.109375 9.234375 16.796875 8.0625 \r\nQ 21.484375 6.890625 26.703125 6.890625 \r\nQ 35.15625 6.890625 40.078125 11.328125 \r\nQ 45.015625 15.765625 45.015625 23.390625 \r\nQ 45.015625 31 40.078125 35.4375 \r\nQ 35.15625 39.890625 26.703125 39.890625 \r\nQ 22.75 39.890625 18.8125 39.015625 \r\nQ 14.890625 38.140625 10.796875 36.28125 \r\nz\r\n\" id=\"DejaVuSans-53\"/>\r\n       </defs>\r\n       <use xlink:href=\"#DejaVuSans-53\"/>\r\n       <use x=\"63.623047\" xlink:href=\"#DejaVuSans-48\"/>\r\n      </g>\r\n     </g>\r\n    </g>\r\n    <g id=\"ytick_3\">\r\n     <g id=\"line2d_9\">\r\n      <g>\r\n       <use style=\"stroke:#000000;stroke-width:0.8;\" x=\"33.2875\" xlink:href=\"#mce01b078ce\" y=\"135.58287\"/>\r\n      </g>\r\n     </g>\r\n     <g id=\"text_9\">\r\n      <!-- 100 -->\r\n      <g transform=\"translate(7.2 139.382089)scale(0.1 -0.1)\">\r\n       <use xlink:href=\"#DejaVuSans-49\"/>\r\n       <use x=\"63.623047\" xlink:href=\"#DejaVuSans-48\"/>\r\n       <use x=\"127.246094\" xlink:href=\"#DejaVuSans-48\"/>\r\n      </g>\r\n     </g>\r\n    </g>\r\n    <g id=\"ytick_4\">\r\n     <g id=\"line2d_10\">\r\n      <g>\r\n       <use style=\"stroke:#000000;stroke-width:0.8;\" x=\"33.2875\" xlink:href=\"#mce01b078ce\" y=\"94.054987\"/>\r\n      </g>\r\n     </g>\r\n     <g id=\"text_10\">\r\n      <!-- 150 -->\r\n      <g transform=\"translate(7.2 97.854205)scale(0.1 -0.1)\">\r\n       <use xlink:href=\"#DejaVuSans-49\"/>\r\n       <use x=\"63.623047\" xlink:href=\"#DejaVuSans-53\"/>\r\n       <use x=\"127.246094\" xlink:href=\"#DejaVuSans-48\"/>\r\n      </g>\r\n     </g>\r\n    </g>\r\n    <g id=\"ytick_5\">\r\n     <g id=\"line2d_11\">\r\n      <g>\r\n       <use style=\"stroke:#000000;stroke-width:0.8;\" x=\"33.2875\" xlink:href=\"#mce01b078ce\" y=\"52.527103\"/>\r\n      </g>\r\n     </g>\r\n     <g id=\"text_11\">\r\n      <!-- 200 -->\r\n      <g transform=\"translate(7.2 56.326321)scale(0.1 -0.1)\">\r\n       <use xlink:href=\"#DejaVuSans-50\"/>\r\n       <use x=\"63.623047\" xlink:href=\"#DejaVuSans-48\"/>\r\n       <use x=\"127.246094\" xlink:href=\"#DejaVuSans-48\"/>\r\n      </g>\r\n     </g>\r\n    </g>\r\n    <g id=\"ytick_6\">\r\n     <g id=\"line2d_12\">\r\n      <g>\r\n       <use style=\"stroke:#000000;stroke-width:0.8;\" x=\"33.2875\" xlink:href=\"#mce01b078ce\" y=\"10.999219\"/>\r\n      </g>\r\n     </g>\r\n     <g id=\"text_12\">\r\n      <!-- 250 -->\r\n      <g transform=\"translate(7.2 14.798437)scale(0.1 -0.1)\">\r\n       <use xlink:href=\"#DejaVuSans-50\"/>\r\n       <use x=\"63.623047\" xlink:href=\"#DejaVuSans-53\"/>\r\n       <use x=\"127.246094\" xlink:href=\"#DejaVuSans-48\"/>\r\n      </g>\r\n     </g>\r\n    </g>\r\n   </g>\r\n   <g id=\"line2d_13\">\r\n    <path clip-path=\"url(#p98a8f9302a)\" d=\"M 48.505682 216.146965 \r\nL 51.580062 211.994177 \r\nL 54.654442 211.163619 \r\nL 57.728822 211.163619 \r\nL 60.803202 207.010831 \r\nL 63.877583 207.010831 \r\nL 66.951963 204.519158 \r\nL 70.026343 200.366369 \r\nL 73.100723 200.366369 \r\nL 76.175103 196.213581 \r\nL 79.249483 196.213581 \r\nL 82.323864 192.060792 \r\nL 85.398244 192.060792 \r\nL 88.472624 187.908004 \r\nL 91.547004 187.908004 \r\nL 94.621384 183.755216 \r\nL 97.695764 183.755216 \r\nL 100.770145 181.263543 \r\nL 103.844525 177.110754 \r\nL 106.918905 177.110754 \r\nL 109.993285 174.619081 \r\nL 113.067665 170.466293 \r\nL 116.142045 169.635735 \r\nL 119.216426 168.805177 \r\nL 122.290806 168.805177 \r\nL 125.365186 166.313504 \r\nL 128.439566 163.821831 \r\nL 131.513946 161.330158 \r\nL 134.588326 158.838485 \r\nL 137.662707 156.346812 \r\nL 140.737087 153.855139 \r\nL 143.811467 149.702351 \r\nL 146.885847 148.871793 \r\nL 149.960227 148.871793 \r\nL 153.034607 146.38012 \r\nL 156.108988 142.227332 \r\nL 159.183368 141.396774 \r\nL 162.257748 140.566216 \r\nL 165.332128 140.566216 \r\nL 168.406508 136.413428 \r\nL 171.480888 135.58287 \r\nL 174.555269 135.58287 \r\nL 177.629649 131.430082 \r\nL 180.704029 130.599524 \r\nL 183.778409 129.768967 \r\nL 186.852789 128.938409 \r\nL 189.927169 128.938409 \r\nL 193.00155 126.446736 \r\nL 196.07593 123.955063 \r\nL 199.15031 121.46339 \r\nL 202.22469 118.971717 \r\nL 205.29907 116.480044 \r\nL 208.37345 113.988371 \r\nL 211.447831 109.835582 \r\nL 214.522211 109.835582 \r\nL 217.596591 107.343909 \r\nL 220.670971 103.191121 \r\nL 223.745351 102.360563 \r\nL 226.819731 101.530006 \r\nL 229.894112 101.530006 \r\nL 232.968492 97.377217 \r\nL 236.042872 97.377217 \r\nL 239.117252 93.224429 \r\nL 242.191632 93.224429 \r\nL 245.266012 90.732756 \r\nL 248.340393 86.579967 \r\nL 251.414773 85.74941 \r\nL 254.489153 85.74941 \r\nL 257.563533 83.257737 \r\nL 260.637913 80.766064 \r\nL 263.712293 78.274391 \r\nL 266.786674 74.121602 \r\nL 269.861054 74.121602 \r\nL 272.935434 69.968814 \r\nL 276.009814 69.968814 \r\nL 279.084194 67.477141 \r\nL 282.158574 64.985468 \r\nL 285.232955 62.493795 \r\nL 288.307335 58.341006 \r\nL 291.381715 57.510449 \r\nL 294.456095 57.510449 \r\nL 297.530475 53.35766 \r\nL 300.604855 52.527103 \r\nL 303.679236 51.696545 \r\nL 306.753616 51.696545 \r\nL 309.827996 47.543757 \r\nL 312.902376 47.543757 \r\nL 315.976756 45.052084 \r\nL 319.051136 40.899295 \r\nL 322.125517 40.068737 \r\nL 325.199897 39.23818 \r\nL 328.274277 39.23818 \r\nL 331.348657 35.085391 \r\nL 334.423037 35.085391 \r\nL 337.497417 32.593718 \r\nL 340.571798 30.102045 \r\nL 343.646178 27.610372 \r\nL 346.720558 25.118699 \r\nL 349.794938 22.627026 \r\nL 352.869318 18.474238 \r\n\" style=\"fill:none;stroke:#1f77b4;stroke-linecap:square;stroke-width:1.5;\"/>\r\n   </g>\r\n   <g id=\"line2d_14\">\r\n    <path clip-path=\"url(#p98a8f9302a)\" d=\"M 48.505682 216.146965 \r\nL 51.580062 216.146965 \r\nL 54.654442 215.316407 \r\nL 57.728822 211.163619 \r\nL 60.803202 211.163619 \r\nL 63.877583 207.010831 \r\nL 66.951963 204.519158 \r\nL 70.026343 204.519158 \r\nL 73.100723 200.366369 \r\nL 76.175103 200.366369 \r\nL 79.249483 196.213581 \r\nL 82.323864 196.213581 \r\nL 85.398244 192.060792 \r\nL 88.472624 192.060792 \r\nL 91.547004 187.908004 \r\nL 94.621384 187.908004 \r\nL 97.695764 183.755216 \r\nL 100.770145 181.263543 \r\nL 103.844525 181.263543 \r\nL 106.918905 177.110754 \r\nL 109.993285 174.619081 \r\nL 113.067665 174.619081 \r\nL 116.142045 173.788524 \r\nL 119.216426 172.957966 \r\nL 122.290806 168.805177 \r\nL 125.365186 166.313504 \r\nL 128.439566 163.821831 \r\nL 131.513946 161.330158 \r\nL 134.588326 158.838485 \r\nL 137.662707 156.346812 \r\nL 140.737087 153.855139 \r\nL 143.811467 153.855139 \r\nL 146.885847 153.024582 \r\nL 149.960227 148.871793 \r\nL 153.034607 146.38012 \r\nL 156.108988 146.38012 \r\nL 159.183368 145.549563 \r\nL 162.257748 144.719005 \r\nL 165.332128 140.566216 \r\nL 168.406508 140.566216 \r\nL 171.480888 139.735659 \r\nL 174.555269 135.58287 \r\nL 177.629649 135.58287 \r\nL 180.704029 134.752313 \r\nL 183.778409 133.921755 \r\nL 186.852789 133.091197 \r\nL 189.927169 128.938409 \r\nL 193.00155 126.446736 \r\nL 196.07593 123.955063 \r\nL 199.15031 121.46339 \r\nL 202.22469 118.971717 \r\nL 205.29907 116.480044 \r\nL 208.37345 113.988371 \r\nL 211.447831 113.988371 \r\nL 214.522211 109.835582 \r\nL 217.596591 107.343909 \r\nL 220.670971 107.343909 \r\nL 223.745351 106.513352 \r\nL 226.819731 105.682794 \r\nL 229.894112 101.530006 \r\nL 232.968492 101.530006 \r\nL 236.042872 97.377217 \r\nL 239.117252 97.377217 \r\nL 242.191632 93.224429 \r\nL 245.266012 90.732756 \r\nL 248.340393 90.732756 \r\nL 251.414773 89.902198 \r\nL 254.489153 85.74941 \r\nL 257.563533 83.257737 \r\nL 260.637913 80.766064 \r\nL 263.712293 78.274391 \r\nL 266.786674 78.274391 \r\nL 269.861054 74.121602 \r\nL 272.935434 74.121602 \r\nL 276.009814 69.968814 \r\nL 279.084194 67.477141 \r\nL 282.158574 64.985468 \r\nL 285.232955 62.493795 \r\nL 288.307335 62.493795 \r\nL 291.381715 61.663237 \r\nL 294.456095 57.510449 \r\nL 297.530475 57.510449 \r\nL 300.604855 56.679891 \r\nL 303.679236 55.849333 \r\nL 306.753616 51.696545 \r\nL 309.827996 51.696545 \r\nL 312.902376 47.543757 \r\nL 315.976756 45.052084 \r\nL 319.051136 45.052084 \r\nL 322.125517 44.221526 \r\nL 325.199897 43.390968 \r\nL 328.274277 39.23818 \r\nL 331.348657 39.23818 \r\nL 334.423037 35.085391 \r\nL 337.497417 32.593718 \r\nL 340.571798 30.102045 \r\nL 343.646178 27.610372 \r\nL 346.720558 25.118699 \r\nL 349.794938 22.627026 \r\nL 352.869318 22.627026 \r\n\" style=\"fill:none;stroke:#ff7f0e;stroke-linecap:square;stroke-width:1.5;\"/>\r\n   </g>\r\n   <g id=\"patch_3\">\r\n    <path d=\"M 33.2875 226.030601 \r\nL 33.2875 8.590601 \r\n\" style=\"fill:none;stroke:#000000;stroke-linecap:square;stroke-linejoin:miter;stroke-width:0.8;\"/>\r\n   </g>\r\n   <g id=\"patch_4\">\r\n    <path d=\"M 368.0875 226.030601 \r\nL 368.0875 8.590601 \r\n\" style=\"fill:none;stroke:#000000;stroke-linecap:square;stroke-linejoin:miter;stroke-width:0.8;\"/>\r\n   </g>\r\n   <g id=\"patch_5\">\r\n    <path d=\"M 33.2875 226.030601 \r\nL 368.0875 226.030601 \r\n\" style=\"fill:none;stroke:#000000;stroke-linecap:square;stroke-linejoin:miter;stroke-width:0.8;\"/>\r\n   </g>\r\n   <g id=\"patch_6\">\r\n    <path d=\"M 33.2875 8.590601 \r\nL 368.0875 8.590601 \r\n\" style=\"fill:none;stroke:#000000;stroke-linecap:square;stroke-linejoin:miter;stroke-width:0.8;\"/>\r\n   </g>\r\n   <g id=\"legend_1\">\r\n    <g id=\"patch_7\">\r\n     <path d=\"M 40.2875 45.946851 \r\nL 100.857813 45.946851 \r\nQ 102.857813 45.946851 102.857813 43.946851 \r\nL 102.857813 15.590601 \r\nQ 102.857813 13.590601 100.857813 13.590601 \r\nL 40.2875 13.590601 \r\nQ 38.2875 13.590601 38.2875 15.590601 \r\nL 38.2875 43.946851 \r\nQ 38.2875 45.946851 40.2875 45.946851 \r\nz\r\n\" style=\"fill:#ffffff;opacity:0.8;stroke:#cccccc;stroke-linejoin:miter;\"/>\r\n    </g>\r\n    <g id=\"line2d_15\">\r\n     <path d=\"M 42.2875 21.689039 \r\nL 62.2875 21.689039 \r\n\" style=\"fill:none;stroke:#1f77b4;stroke-linecap:square;stroke-width:1.5;\"/>\r\n    </g>\r\n    <g id=\"line2d_16\"/>\r\n    <g id=\"text_13\">\r\n     <!-- RAND -->\r\n     <g transform=\"translate(70.2875 25.189039)scale(0.1 -0.1)\">\r\n      <defs>\r\n       <path d=\"M 44.390625 34.1875 \r\nQ 47.5625 33.109375 50.5625 29.59375 \r\nQ 53.5625 26.078125 56.59375 19.921875 \r\nL 66.609375 0 \r\nL 56 0 \r\nL 46.6875 18.703125 \r\nQ 43.0625 26.03125 39.671875 28.421875 \r\nQ 36.28125 30.8125 30.421875 30.8125 \r\nL 19.671875 30.8125 \r\nL 19.671875 0 \r\nL 9.8125 0 \r\nL 9.8125 72.90625 \r\nL 32.078125 72.90625 \r\nQ 44.578125 72.90625 50.734375 67.671875 \r\nQ 56.890625 62.453125 56.890625 51.90625 \r\nQ 56.890625 45.015625 53.6875 40.46875 \r\nQ 50.484375 35.9375 44.390625 34.1875 \r\nz\r\nM 19.671875 64.796875 \r\nL 19.671875 38.921875 \r\nL 32.078125 38.921875 \r\nQ 39.203125 38.921875 42.84375 42.21875 \r\nQ 46.484375 45.515625 46.484375 51.90625 \r\nQ 46.484375 58.296875 42.84375 61.546875 \r\nQ 39.203125 64.796875 32.078125 64.796875 \r\nz\r\n\" id=\"DejaVuSans-82\"/>\r\n       <path d=\"M 34.1875 63.1875 \r\nL 20.796875 26.90625 \r\nL 47.609375 26.90625 \r\nz\r\nM 28.609375 72.90625 \r\nL 39.796875 72.90625 \r\nL 67.578125 0 \r\nL 57.328125 0 \r\nL 50.6875 18.703125 \r\nL 17.828125 18.703125 \r\nL 11.1875 0 \r\nL 0.78125 0 \r\nz\r\n\" id=\"DejaVuSans-65\"/>\r\n       <path d=\"M 9.8125 72.90625 \r\nL 23.09375 72.90625 \r\nL 55.421875 11.921875 \r\nL 55.421875 72.90625 \r\nL 64.984375 72.90625 \r\nL 64.984375 0 \r\nL 51.703125 0 \r\nL 19.390625 60.984375 \r\nL 19.390625 0 \r\nL 9.8125 0 \r\nz\r\n\" id=\"DejaVuSans-78\"/>\r\n       <path d=\"M 19.671875 64.796875 \r\nL 19.671875 8.109375 \r\nL 31.59375 8.109375 \r\nQ 46.6875 8.109375 53.6875 14.9375 \r\nQ 60.6875 21.78125 60.6875 36.53125 \r\nQ 60.6875 51.171875 53.6875 57.984375 \r\nQ 46.6875 64.796875 31.59375 64.796875 \r\nz\r\nM 9.8125 72.90625 \r\nL 30.078125 72.90625 \r\nQ 51.265625 72.90625 61.171875 64.09375 \r\nQ 71.09375 55.28125 71.09375 36.53125 \r\nQ 71.09375 17.671875 61.125 8.828125 \r\nQ 51.171875 0 30.078125 0 \r\nL 9.8125 0 \r\nz\r\n\" id=\"DejaVuSans-68\"/>\r\n      </defs>\r\n      <use xlink:href=\"#DejaVuSans-82\"/>\r\n      <use x=\"65.482422\" xlink:href=\"#DejaVuSans-65\"/>\r\n      <use x=\"133.890625\" xlink:href=\"#DejaVuSans-78\"/>\r\n      <use x=\"208.695312\" xlink:href=\"#DejaVuSans-68\"/>\r\n     </g>\r\n    </g>\r\n    <g id=\"line2d_17\">\r\n     <path d=\"M 42.2875 36.367164 \r\nL 62.2875 36.367164 \r\n\" style=\"fill:none;stroke:#ff7f0e;stroke-linecap:square;stroke-width:1.5;\"/>\r\n    </g>\r\n    <g id=\"line2d_18\"/>\r\n    <g id=\"text_14\">\r\n     <!-- TFT -->\r\n     <g transform=\"translate(70.2875 39.867164)scale(0.1 -0.1)\">\r\n      <defs>\r\n       <path d=\"M -0.296875 72.90625 \r\nL 61.375 72.90625 \r\nL 61.375 64.59375 \r\nL 35.5 64.59375 \r\nL 35.5 0 \r\nL 25.59375 0 \r\nL 25.59375 64.59375 \r\nL -0.296875 64.59375 \r\nz\r\n\" id=\"DejaVuSans-84\"/>\r\n       <path d=\"M 9.8125 72.90625 \r\nL 51.703125 72.90625 \r\nL 51.703125 64.59375 \r\nL 19.671875 64.59375 \r\nL 19.671875 43.109375 \r\nL 48.578125 43.109375 \r\nL 48.578125 34.8125 \r\nL 19.671875 34.8125 \r\nL 19.671875 0 \r\nL 9.8125 0 \r\nz\r\n\" id=\"DejaVuSans-70\"/>\r\n      </defs>\r\n      <use xlink:href=\"#DejaVuSans-84\"/>\r\n      <use x=\"61.083984\" xlink:href=\"#DejaVuSans-70\"/>\r\n      <use x=\"116.853516\" xlink:href=\"#DejaVuSans-84\"/>\r\n     </g>\r\n    </g>\r\n   </g>\r\n  </g>\r\n </g>\r\n <defs>\r\n  <clipPath id=\"p98a8f9302a\">\r\n   <rect height=\"217.44\" width=\"334.8\" x=\"33.2875\" y=\"8.590601\"/>\r\n  </clipPath>\r\n </defs>\r\n</svg>\r\n",
      "image/png": "[encoded data removed]"
     },
     "metadata": {
      "needs_background": "light"
     }
    }
   ],
   "source": [
    "# cumulative summation of payoff (need numpy)\n",
    "plt.plot(np.array(P1.payoffhist).cumsum(), label=\"RAND\")\n",
    "plt.plot(np.array(P2.payoffhist).cumsum(), label=\"TFT\")\n",
    "plt.legend();"
   ]
  },
  {
   "source": [
    "いろいろ対戦してみよう．また，自分で戦略を組んで試してみよう．"
   ],
   "cell_type": "markdown",
   "metadata": {}
  }
 ],
 "metadata": {
  "kernelspec": {
   "name": "python385jvsc74a57bd071c8d2e717b061ce967b4ebfe17625d3e606571fe5b924e7991b5e1abc7ad8fb",
   "display_name": "Python 3.8.5 64-bit ('base': conda)"
  },
  "language_info": {
   "codemirror_mode": {
    "name": "ipython",
    "version": 3
   },
   "file_extension": ".py",
   "mimetype": "text/x-python",
   "name": "python",
   "nbconvert_exporter": "python",
   "pygments_lexer": "ipython3",
   "version": "3.8.5"
  }
 },
 "nbformat": 4,
 "nbformat_minor": 4
}